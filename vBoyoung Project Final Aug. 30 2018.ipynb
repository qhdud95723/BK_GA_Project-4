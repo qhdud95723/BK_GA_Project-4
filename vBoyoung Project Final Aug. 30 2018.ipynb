{
 "cells": [
  {
   "cell_type": "code",
   "execution_count": 1,
   "metadata": {},
   "outputs": [],
   "source": [
    "import pandas as pd\n",
    "import numpy as np\n",
    "from sklearn import metrics\n",
    "from sklearn.linear_model import LinearRegression\n",
    "from sklearn.model_selection import train_test_split"
   ]
  },
  {
   "cell_type": "code",
   "execution_count": 2,
   "metadata": {},
   "outputs": [],
   "source": [
    "apps = pd.read_csv('Apps Data.csv')"
   ]
  },
  {
   "cell_type": "code",
   "execution_count": 48,
   "metadata": {},
   "outputs": [
    {
     "name": "stdout",
     "output_type": "stream",
     "text": [
      "      Downloads       Revenue                 Category  In_App_Purchases  \\\n",
      "0      14025020  3.814998e+08                   Action              True   \n",
      "1      47626428  3.087616e+08                   Casual              True   \n",
      "2      59717242  3.068476e+08                Lifestyle              True   \n",
      "3       9644402  2.696603e+08             Role Playing              True   \n",
      "4      36942437  1.984544e+08            Music & Audio              True   \n",
      "5      71314720  1.623006e+08  Video Players & Editors              True   \n",
      "6      37779102  1.259392e+08                   Casual              True   \n",
      "7      60991823  1.184065e+08                Adventure              True   \n",
      "8      33519732  1.114186e+08                     Card              True   \n",
      "9      32797250  1.097406e+08                   Casual              True   \n",
      "10     14686144  1.093629e+08                     Card              True   \n",
      "11    128434634  9.740574e+07                   Sports              True   \n",
      "12     40143901  9.328335e+07                   Casual              True   \n",
      "13     21359685  9.302134e+07                   Puzzle              True   \n",
      "14     15049613  8.998870e+07                   Casino              True   \n",
      "15     13590913  8.678484e+07                   Sports              True   \n",
      "16     11582404  8.203653e+07                   Casino              True   \n",
      "17     72519665  8.068265e+07                   Action              True   \n",
      "18     21656331  7.507714e+07                   Sports              True   \n",
      "19     90129352  7.245115e+07            Music & Audio              True   \n",
      "20     21879473  6.863902e+07                 Strategy              True   \n",
      "21      9012161  6.835280e+07                 Strategy              True   \n",
      "22     30042900  6.648120e+07               Simulation              True   \n",
      "23      9553617  6.568860e+07             Role Playing              True   \n",
      "24     28727958  6.489098e+07                   Racing              True   \n",
      "25     33719743  6.208188e+07                   Action              True   \n",
      "26     39996076  6.131971e+07               Simulation              True   \n",
      "27     30208384  6.013217e+07               Simulation              True   \n",
      "28     25780031  5.837238e+07               Simulation              True   \n",
      "29      9792149  5.783319e+07                   Puzzle              True   \n",
      "...         ...           ...                      ...               ...   \n",
      "1436    8549829  0.000000e+00                 Strategy             False   \n",
      "1437    8478715  0.000000e+00                  Finance             False   \n",
      "1438    8354965  0.000000e+00                    Tools             False   \n",
      "1439    8352579  0.000000e+00                  Finance             False   \n",
      "1440    8306156  0.000000e+00             Food & Drink             False   \n",
      "1441    8294247  0.000000e+00              Photography             False   \n",
      "1442    8224410  0.000000e+00                    Tools             False   \n",
      "1443    8219322  0.000000e+00                 Shopping             False   \n",
      "1444    8190985  0.000000e+00         Libraries & Demo             False   \n",
      "1445    8180026  0.000000e+00                    Tools             False   \n",
      "1446    8128671  0.000000e+00                Adventure             False   \n",
      "1447    8095811  0.000000e+00              Photography             False   \n",
      "1448    8028965  0.000000e+00                  Finance             False   \n",
      "1449    7994302  0.000000e+00                  Finance             False   \n",
      "1450    7932573  0.000000e+00                    Tools             False   \n",
      "1451    7845229  0.000000e+00                    Tools             False   \n",
      "1452    7841656  0.000000e+00          Auto & Vehicles             False   \n",
      "1453    7807911  0.000000e+00           Travel & Local             False   \n",
      "1454    7803438  0.000000e+00                   Action             False   \n",
      "1455    7793907  0.000000e+00             Food & Drink             False   \n",
      "1456    7757928  0.000000e+00                    Tools             False   \n",
      "1457    7660220  0.000000e+00                  Finance             False   \n",
      "1458    7641060  0.000000e+00                    Music             False   \n",
      "1459    7620910  0.000000e+00            Entertainment             False   \n",
      "1460    7547880  0.000000e+00                 Shopping             False   \n",
      "1461    7544284  0.000000e+00             Productivity             False   \n",
      "1462    7517461  0.000000e+00                  Finance             False   \n",
      "1463    7371387  0.000000e+00                    Tools             False   \n",
      "1464    7305742  0.000000e+00                  Finance             False   \n",
      "1465    7861170  4.233681e+05            Entertainment             False   \n",
      "\n",
      "        Ads   Free  \n",
      "0      True   True  \n",
      "1      True   True  \n",
      "2      True   True  \n",
      "3      True   True  \n",
      "4      True   True  \n",
      "5      True   True  \n",
      "6      True   True  \n",
      "7      True   True  \n",
      "8      True   True  \n",
      "9      True   True  \n",
      "10     True   True  \n",
      "11     True   True  \n",
      "12     True   True  \n",
      "13     True   True  \n",
      "14     True   True  \n",
      "15     True   True  \n",
      "16     True   True  \n",
      "17     True   True  \n",
      "18     True   True  \n",
      "19     True   True  \n",
      "20     True   True  \n",
      "21     True   True  \n",
      "22     True   True  \n",
      "23     True   True  \n",
      "24     True   True  \n",
      "25     True   True  \n",
      "26     True   True  \n",
      "27     True   True  \n",
      "28     True   True  \n",
      "29     True   True  \n",
      "...     ...    ...  \n",
      "1436  False   True  \n",
      "1437  False   True  \n",
      "1438  False   True  \n",
      "1439  False   True  \n",
      "1440  False   True  \n",
      "1441  False   True  \n",
      "1442  False   True  \n",
      "1443  False   True  \n",
      "1444  False   True  \n",
      "1445  False   True  \n",
      "1446  False   True  \n",
      "1447  False   True  \n",
      "1448  False   True  \n",
      "1449  False   True  \n",
      "1450  False   True  \n",
      "1451  False   True  \n",
      "1452  False   True  \n",
      "1453  False   True  \n",
      "1454  False   True  \n",
      "1455  False   True  \n",
      "1456  False   True  \n",
      "1457  False   True  \n",
      "1458  False   True  \n",
      "1459  False   True  \n",
      "1460  False   True  \n",
      "1461  False   True  \n",
      "1462  False   True  \n",
      "1463  False   True  \n",
      "1464  False   True  \n",
      "1465  False  False  \n",
      "\n",
      "[1466 rows x 6 columns]\n"
     ]
    }
   ],
   "source": [
    "print(apps)"
   ]
  },
  {
   "cell_type": "code",
   "execution_count": 4,
   "metadata": {},
   "outputs": [
    {
     "name": "stdout",
     "output_type": "stream",
     "text": [
      "Rows: 1466, Cols: 6\n"
     ]
    }
   ],
   "source": [
    "print('Rows: {}, Cols: {}'.format(apps.shape[0], apps.shape[1]))"
   ]
  },
  {
   "cell_type": "code",
   "execution_count": 5,
   "metadata": {},
   "outputs": [
    {
     "data": {
      "text/plain": [
       "Downloads             int64\n",
       "Revenue             float64\n",
       "Category             object\n",
       "In_App_Purchases       bool\n",
       "Ads                    bool\n",
       "Free                   bool\n",
       "dtype: object"
      ]
     },
     "execution_count": 5,
     "metadata": {},
     "output_type": "execute_result"
    }
   ],
   "source": [
    "apps.dtypes"
   ]
  },
  {
   "cell_type": "code",
   "execution_count": 6,
   "metadata": {},
   "outputs": [
    {
     "data": {
      "text/plain": [
       "Downloads           0\n",
       "Revenue             0\n",
       "Category            0\n",
       "In_App_Purchases    0\n",
       "Ads                 0\n",
       "Free                0\n",
       "dtype: int64"
      ]
     },
     "execution_count": 6,
     "metadata": {},
     "output_type": "execute_result"
    }
   ],
   "source": [
    "apps.isnull().sum()"
   ]
  },
  {
   "cell_type": "markdown",
   "metadata": {},
   "source": [
    "I have no null values. This is good."
   ]
  },
  {
   "cell_type": "code",
   "execution_count": 7,
   "metadata": {
    "scrolled": true
   },
   "outputs": [],
   "source": [
    "ax = apps.plot(kind='scatter', x='Downloads', y='Revenue');\n",
    "ax.set_title('Apps Revenue vs. Downloads');"
   ]
  },
  {
   "cell_type": "code",
   "execution_count": 8,
   "metadata": {},
   "outputs": [
    {
     "data": {
      "text/html": [
       "<div>\n",
       "<style scoped>\n",
       "    .dataframe tbody tr th:only-of-type {\n",
       "        vertical-align: middle;\n",
       "    }\n",
       "\n",
       "    .dataframe tbody tr th {\n",
       "        vertical-align: top;\n",
       "    }\n",
       "\n",
       "    .dataframe thead th {\n",
       "        text-align: right;\n",
       "    }\n",
       "</style>\n",
       "<table border=\"1\" class=\"dataframe\">\n",
       "  <thead>\n",
       "    <tr style=\"text-align: right;\">\n",
       "      <th></th>\n",
       "      <th>Downloads</th>\n",
       "      <th>Revenue</th>\n",
       "    </tr>\n",
       "  </thead>\n",
       "  <tbody>\n",
       "    <tr>\n",
       "      <th>count</th>\n",
       "      <td>1.466000e+03</td>\n",
       "      <td>1.466000e+03</td>\n",
       "    </tr>\n",
       "    <tr>\n",
       "      <th>mean</th>\n",
       "      <td>2.228502e+07</td>\n",
       "      <td>1.028029e+07</td>\n",
       "    </tr>\n",
       "    <tr>\n",
       "      <th>std</th>\n",
       "      <td>3.374783e+07</td>\n",
       "      <td>4.729205e+07</td>\n",
       "    </tr>\n",
       "    <tr>\n",
       "      <th>min</th>\n",
       "      <td>7.281799e+06</td>\n",
       "      <td>0.000000e+00</td>\n",
       "    </tr>\n",
       "    <tr>\n",
       "      <th>25%</th>\n",
       "      <td>9.194319e+06</td>\n",
       "      <td>0.000000e+00</td>\n",
       "    </tr>\n",
       "    <tr>\n",
       "      <th>50%</th>\n",
       "      <td>1.260039e+07</td>\n",
       "      <td>2.347047e+04</td>\n",
       "    </tr>\n",
       "    <tr>\n",
       "      <th>75%</th>\n",
       "      <td>2.242162e+07</td>\n",
       "      <td>1.306151e+06</td>\n",
       "    </tr>\n",
       "    <tr>\n",
       "      <th>max</th>\n",
       "      <td>7.502986e+08</td>\n",
       "      <td>6.735595e+08</td>\n",
       "    </tr>\n",
       "  </tbody>\n",
       "</table>\n",
       "</div>"
      ],
      "text/plain": [
       "          Downloads       Revenue\n",
       "count  1.466000e+03  1.466000e+03\n",
       "mean   2.228502e+07  1.028029e+07\n",
       "std    3.374783e+07  4.729205e+07\n",
       "min    7.281799e+06  0.000000e+00\n",
       "25%    9.194319e+06  0.000000e+00\n",
       "50%    1.260039e+07  2.347047e+04\n",
       "75%    2.242162e+07  1.306151e+06\n",
       "max    7.502986e+08  6.735595e+08"
      ]
     },
     "execution_count": 8,
     "metadata": {},
     "output_type": "execute_result"
    }
   ],
   "source": [
    "apps.describe()"
   ]
  },
  {
   "cell_type": "markdown",
   "metadata": {},
   "source": [
    "I see here that there are apps with 0 revenue. I will need to eliminate those to be able to compare apps across those that does generate revenue. Some developers could be uninterested in making apps for revenue."
   ]
  },
  {
   "cell_type": "code",
   "execution_count": 9,
   "metadata": {
    "scrolled": true
   },
   "outputs": [
    {
     "data": {
      "text/plain": [
       "True     1464\n",
       "False       2\n",
       "Name: Free, dtype: int64"
      ]
     },
     "execution_count": 9,
     "metadata": {},
     "output_type": "execute_result"
    }
   ],
   "source": [
    "apps.loc[:,'Free'].value_counts()"
   ]
  },
  {
   "cell_type": "code",
   "execution_count": 10,
   "metadata": {},
   "outputs": [
    {
     "data": {
      "text/plain": [
       "Text(0.5,1,'Number of Apps That Are Free vs. Paid')"
      ]
     },
     "execution_count": 10,
     "metadata": {},
     "output_type": "execute_result"
    },
    {
     "data": {
      "image/png": "[encoded data removed]",
      "text/plain": [
       "<Figure size 432x288 with 1 Axes>"
      ]
     },
     "metadata": {},
     "output_type": "display_data"
    }
   ],
   "source": [
    "ax = apps.loc[:, 'Free'].value_counts().plot(kind='bar')\n",
    "ax.set_title('Number of Apps That Are Free vs. Paid')"
   ]
  },
  {
   "cell_type": "markdown",
   "metadata": {},
   "source": [
    "Among the given apps in this data set of 1,466 apps, only two of them were not free, meaning they charge users to download. Since there is only two paid apps, I am going to keep the scope of this study within free apps."
   ]
  },
  {
   "cell_type": "markdown",
   "metadata": {},
   "source": [
    "The next steps I will take for the sake of simplying is to: \n",
    "\n",
    "(1) Remove paid app, which would be indicated by the value in column \"Free\" = \"False\"\n",
    "(2) Remove non-revenue generating apps, which would have value in \"Revenue\" column equal 0. "
   ]
  },
  {
   "cell_type": "code",
   "execution_count": 11,
   "metadata": {},
   "outputs": [
    {
     "data": {
      "text/plain": [
       "True     1120\n",
       "False     346\n",
       "Name: Ads, dtype: int64"
      ]
     },
     "execution_count": 11,
     "metadata": {},
     "output_type": "execute_result"
    }
   ],
   "source": [
    "apps.loc[:,'Ads'].value_counts()"
   ]
  },
  {
   "cell_type": "code",
   "execution_count": 12,
   "metadata": {},
   "outputs": [
    {
     "data": {
      "text/plain": [
       "Text(0.5,1,'Number of Apps That Are Ad-Supported')"
      ]
     },
     "execution_count": 12,
     "metadata": {},
     "output_type": "execute_result"
    },
    {
     "data": {
      "image/png": "[encoded data removed]",
      "text/plain": [
       "<Figure size 432x288 with 1 Axes>"
      ]
     },
     "metadata": {},
     "output_type": "display_data"
    }
   ],
   "source": [
    "ax = apps.loc[:, 'Ads'].value_counts().plot(kind='bar')\n",
    "ax.set_title('Number of Apps That Are Ad-Supported')"
   ]
  },
  {
   "cell_type": "code",
   "execution_count": 13,
   "metadata": {},
   "outputs": [
    {
     "data": {
      "text/plain": [
       "True     848\n",
       "False    618\n",
       "Name: In_App_Purchases, dtype: int64"
      ]
     },
     "execution_count": 13,
     "metadata": {},
     "output_type": "execute_result"
    }
   ],
   "source": [
    "apps.loc[:,'In_App_Purchases'].value_counts()"
   ]
  },
  {
   "cell_type": "code",
   "execution_count": 14,
   "metadata": {},
   "outputs": [
    {
     "data": {
      "text/plain": [
       "Text(0.5,1,'Number of Apps Sell In-App Purchases')"
      ]
     },
     "execution_count": 14,
     "metadata": {},
     "output_type": "execute_result"
    },
    {
     "data": {
      "image/png": "[encoded data removed]",
      "text/plain": [
       "<Figure size 432x288 with 1 Axes>"
      ]
     },
     "metadata": {},
     "output_type": "display_data"
    }
   ],
   "source": [
    "ax = apps.loc[:, 'In_App_Purchases'].value_counts().plot(kind='bar')\n",
    "ax.set_title('Number of Apps Sell In-App Purchases')"
   ]
  },
  {
   "cell_type": "markdown",
   "metadata": {},
   "source": [
    "Since the number of apps containing ads and the number of apps with in-app purchases are not complementary, that means some apps are overlapping. For the study, I will need to run linear regressions across three different data frames filtered on this categories:\n",
    "\n",
    "(1) In_App_Purchases = True & Ads = False\n",
    "(2) In App_Purchases = False & Ads = True\n",
    "(3) In App_Purchases = True & Ads = True"
   ]
  },
  {
   "cell_type": "markdown",
   "metadata": {},
   "source": [
    "# Action #1 Create a Data Frame that Only Contains Paid-For Apps with Revenue > 0"
   ]
  },
  {
   "cell_type": "code",
   "execution_count": 15,
   "metadata": {},
   "outputs": [],
   "source": [
    "apps_data = apps.loc[apps.loc[:,'Revenue']>0]"
   ]
  },
  {
   "cell_type": "code",
   "execution_count": 16,
   "metadata": {},
   "outputs": [
    {
     "data": {
      "text/html": [
       "<div>\n",
       "<style scoped>\n",
       "    .dataframe tbody tr th:only-of-type {\n",
       "        vertical-align: middle;\n",
       "    }\n",
       "\n",
       "    .dataframe tbody tr th {\n",
       "        vertical-align: top;\n",
       "    }\n",
       "\n",
       "    .dataframe thead th {\n",
       "        text-align: right;\n",
       "    }\n",
       "</style>\n",
       "<table border=\"1\" class=\"dataframe\">\n",
       "  <thead>\n",
       "    <tr style=\"text-align: right;\">\n",
       "      <th></th>\n",
       "      <th>Downloads</th>\n",
       "      <th>Revenue</th>\n",
       "    </tr>\n",
       "  </thead>\n",
       "  <tbody>\n",
       "    <tr>\n",
       "      <th>count</th>\n",
       "      <td>8.980000e+02</td>\n",
       "      <td>8.980000e+02</td>\n",
       "    </tr>\n",
       "    <tr>\n",
       "      <th>mean</th>\n",
       "      <td>2.342826e+07</td>\n",
       "      <td>1.678275e+07</td>\n",
       "    </tr>\n",
       "    <tr>\n",
       "      <th>std</th>\n",
       "      <td>3.595969e+07</td>\n",
       "      <td>5.952740e+07</td>\n",
       "    </tr>\n",
       "    <tr>\n",
       "      <th>min</th>\n",
       "      <td>7.283067e+06</td>\n",
       "      <td>4.800000e+00</td>\n",
       "    </tr>\n",
       "    <tr>\n",
       "      <th>25%</th>\n",
       "      <td>9.339326e+06</td>\n",
       "      <td>4.871161e+04</td>\n",
       "    </tr>\n",
       "    <tr>\n",
       "      <th>50%</th>\n",
       "      <td>1.310063e+07</td>\n",
       "      <td>5.421269e+05</td>\n",
       "    </tr>\n",
       "    <tr>\n",
       "      <th>75%</th>\n",
       "      <td>2.432318e+07</td>\n",
       "      <td>5.750781e+06</td>\n",
       "    </tr>\n",
       "    <tr>\n",
       "      <th>max</th>\n",
       "      <td>7.502986e+08</td>\n",
       "      <td>6.735595e+08</td>\n",
       "    </tr>\n",
       "  </tbody>\n",
       "</table>\n",
       "</div>"
      ],
      "text/plain": [
       "          Downloads       Revenue\n",
       "count  8.980000e+02  8.980000e+02\n",
       "mean   2.342826e+07  1.678275e+07\n",
       "std    3.595969e+07  5.952740e+07\n",
       "min    7.283067e+06  4.800000e+00\n",
       "25%    9.339326e+06  4.871161e+04\n",
       "50%    1.310063e+07  5.421269e+05\n",
       "75%    2.432318e+07  5.750781e+06\n",
       "max    7.502986e+08  6.735595e+08"
      ]
     },
     "execution_count": 16,
     "metadata": {},
     "output_type": "execute_result"
    }
   ],
   "source": [
    "apps_data.describe()"
   ]
  },
  {
   "cell_type": "code",
   "execution_count": 17,
   "metadata": {},
   "outputs": [
    {
     "data": {
      "text/plain": [
       "True    896\n",
       "Name: Free, dtype: int64"
      ]
     },
     "execution_count": 17,
     "metadata": {},
     "output_type": "execute_result"
    }
   ],
   "source": [
    "apps_data = apps_data.loc[apps_data.loc[:,'Free']==True]\n",
    "apps_data.loc[:,'Free'].value_counts()"
   ]
  },
  {
   "cell_type": "markdown",
   "metadata": {},
   "source": [
    "# Action #2 Create Three Different Groups on Which to Run Three Separate Models "
   ]
  },
  {
   "cell_type": "code",
   "execution_count": 18,
   "metadata": {},
   "outputs": [],
   "source": [
    "ads_only = apps_data.loc[(apps_data['Ads']==True) & (apps_data['In_App_Purchases']==False),:]"
   ]
  },
  {
   "cell_type": "code",
   "execution_count": 19,
   "metadata": {},
   "outputs": [
    {
     "name": "stdout",
     "output_type": "stream",
     "text": [
      "      Downloads       Revenue           Category  In_App_Purchases   Ads  Free\n",
      "848   193644369  8.952401e+07      Entertainment             False  True  True\n",
      "849   154024472  8.878442e+07      Music & Audio             False  True  True\n",
      "850    11135010  8.158926e+07              Board             False  True  True\n",
      "851    18808376  5.606227e+07      Entertainment             False  True  True\n",
      "852    31200767  4.107877e+07             Social             False  True  True\n",
      "853    65089652  2.712085e+07      Music & Audio             False  True  True\n",
      "854    86064787  2.395476e+07      Communication             False  True  True\n",
      "855    25321806  1.532386e+07      Music & Audio             False  True  True\n",
      "856    32442147  1.182210e+07             Social             False  True  True\n",
      "857   269873697  4.919016e+06      Communication             False  True  True\n",
      "858    54661279  4.595263e+06             Arcade             False  True  True\n",
      "859    37919355  2.164668e+06      Music & Audio             False  True  True\n",
      "860    47604137  1.761385e+06             Arcade             False  True  True\n",
      "861    13143378  1.536487e+06      Entertainment             False  True  True\n",
      "862   132790389  1.290983e+06      Entertainment             False  True  True\n",
      "863     7417074  9.959675e+05           Shopping             False  True  True\n",
      "864     7560084  5.904377e+05      Music & Audio             False  True  True\n",
      "865    20602357  5.032448e+05             Puzzle             False  True  True\n",
      "866    81254177  4.858160e+05        Photography             False  True  True\n",
      "867     7826543  3.444176e+05             Casual             False  True  True\n",
      "868    74085431  3.395375e+05      Music & Audio             False  True  True\n",
      "869     7555274  3.309394e+05      Entertainment             False  True  True\n",
      "870    23548181  2.045073e+05      Music & Audio             False  True  True\n",
      "871    35301017  1.495871e+05              Tools             False  True  True\n",
      "872    24874357  5.651348e+04   Health & Fitness             False  True  True\n",
      "873     8259053  5.265982e+04             Social             False  True  True\n",
      "874    15864363  3.720721e+04     Travel & Local             False  True  True\n",
      "875     7900113  3.600118e+04             Racing             False  True  True\n",
      "876     9327634  2.987143e+04             Social             False  True  True\n",
      "877     8867738  2.563232e+04      Music & Audio             False  True  True\n",
      "...         ...           ...                ...               ...   ...   ...\n",
      "897   122980497  9.704200e+02        Photography             False  True  True\n",
      "898    19144962  5.185100e+02       Productivity             False  True  True\n",
      "899     7638894  4.247100e+02        Educational             False  True  True\n",
      "900    24523262  2.175800e+02             Sports             False  True  True\n",
      "901     7912177  8.422000e+01             Action             False  True  True\n",
      "902    15738047  3.660000e+01        Photography             False  True  True\n",
      "903   750298558  1.537000e+01             Social             False  True  True\n",
      "904    10541278  1.516000e+01    Personalization             False  True  True\n",
      "905    24010451  4.800000e+00        Photography             False  True  True\n",
      "1197   79610806  1.918038e+08      Entertainment             False  True  True\n",
      "1198   12035080  2.299955e+07      Entertainment             False  True  True\n",
      "1199   26896929  1.209149e+07          Utilities             False  True  True\n",
      "1200   27821999  1.151533e+07              Music             False  True  True\n",
      "1201    8294462  1.092897e+07      Entertainment             False  True  True\n",
      "1202    9791180  8.372056e+06      Entertainment             False  True  True\n",
      "1203   34724966  6.587032e+06          Utilities             False  True  True\n",
      "1204    7695792  6.423302e+06  Social Networking             False  True  True\n",
      "1205    9136904  6.021478e+06      Entertainment             False  True  True\n",
      "1206    8846836  3.195917e+06  Social Networking             False  True  True\n",
      "1207   16794887  2.708561e+06      Entertainment             False  True  True\n",
      "1208   16461033  4.225690e+05               News             False  True  True\n",
      "1209   11657700  3.863052e+04       Productivity             False  True  True\n",
      "1210   11450787  8.474860e+03          Education             False  True  True\n",
      "1211   37286674  7.945960e+03      Photo & Video             False  True  True\n",
      "1212    7886565  4.045580e+03            Weather             False  True  True\n",
      "1213   17763705  2.473300e+03          Utilities             False  True  True\n",
      "1214   20135132  2.300810e+03          Utilities             False  True  True\n",
      "1215   20724336  6.467900e+02             Travel             False  True  True\n",
      "1216   12798619  2.945100e+02           Business             False  True  True\n",
      "1217   15934855  1.534400e+02            Finance             False  True  True\n",
      "\n",
      "[79 rows x 6 columns]\n"
     ]
    }
   ],
   "source": [
    "print(ads_only)"
   ]
  },
  {
   "cell_type": "code",
   "execution_count": 20,
   "metadata": {},
   "outputs": [
    {
     "data": {
      "text/plain": [
       "(79, 6)"
      ]
     },
     "execution_count": 20,
     "metadata": {},
     "output_type": "execute_result"
    }
   ],
   "source": [
    "ads_only.shape"
   ]
  },
  {
   "cell_type": "code",
   "execution_count": 21,
   "metadata": {},
   "outputs": [],
   "source": [
    "inapppurchase_only = apps_data.loc[(apps_data['Ads']==False) & (apps_data['In_App_Purchases']==True),:]"
   ]
  },
  {
   "cell_type": "code",
   "execution_count": 22,
   "metadata": {},
   "outputs": [
    {
     "data": {
      "text/plain": [
       "(133, 6)"
      ]
     },
     "execution_count": 22,
     "metadata": {},
     "output_type": "execute_result"
    }
   ],
   "source": [
    "inapppurchase_only.shape"
   ]
  },
  {
   "cell_type": "code",
   "execution_count": 23,
   "metadata": {},
   "outputs": [],
   "source": [
    "ads_and_purchase = apps_data.loc[(apps_data['Ads']==True) & (apps_data['In_App_Purchases']==True),:]"
   ]
  },
  {
   "cell_type": "code",
   "execution_count": 24,
   "metadata": {},
   "outputs": [
    {
     "data": {
      "text/plain": [
       "(684, 6)"
      ]
     },
     "execution_count": 24,
     "metadata": {},
     "output_type": "execute_result"
    }
   ],
   "source": [
    "ads_and_purchase.shape"
   ]
  },
  {
   "cell_type": "markdown",
   "metadata": {},
   "source": [
    "Here, I now have three data sets: Ads Only, In-App-Purchase Only, and Ads and In-App Purchases, all of which have greater than $0 in revenue in 2017 and are all free to download."
   ]
  },
  {
   "cell_type": "code",
   "execution_count": 25,
   "metadata": {},
   "outputs": [
    {
     "data": {
      "image/png": "[encoded data removed]",
      "text/plain": [
       "<Figure size 432x288 with 1 Axes>"
      ]
     },
     "metadata": {},
     "output_type": "display_data"
    },
    {
     "data": {
      "image/png": "[encoded data removed]",
      "text/plain": [
       "<Figure size 432x288 with 1 Axes>"
      ]
     },
     "metadata": {},
     "output_type": "display_data"
    },
    {
     "data": {
      "image/png": "[encoded data removed]",
      "text/plain": [
       "<Figure size 432x288 with 1 Axes>"
      ]
     },
     "metadata": {},
     "output_type": "display_data"
    },
    {
     "data": {
      "image/png": "[encoded data removed]",
      "text/plain": [
       "<Figure size 432x288 with 1 Axes>"
      ]
     },
     "metadata": {},
     "output_type": "display_data"
    }
   ],
   "source": [
    "ax1 = apps_data.plot(kind='scatter', x='Downloads', y='Revenue', title = 'Apps Data Total');\n",
    "ax2 = ads_only.plot(kind='scatter', x='Downloads', y='Revenue', title = 'Ads-Supported Apps Only');\n",
    "ax3 = inapppurchase_only.plot(kind='scatter', x='Downloads', y='Revenue', title = 'In App Purchase Only');\n",
    "ax4 = ads_and_purchase.plot(kind='scatter', x='Downloads', y='Revenue', title = 'Apps With Both In App Purchases and Ads');"
   ]
  },
  {
   "cell_type": "markdown",
   "metadata": {},
   "source": [
    "# Action #3 Develop a linear regression model to predict revenue for each business type"
   ]
  },
  {
   "cell_type": "markdown",
   "metadata": {},
   "source": [
    "I plan to train the models on 70% of the data."
   ]
  },
  {
   "cell_type": "code",
   "execution_count": 26,
   "metadata": {},
   "outputs": [],
   "source": [
    "from sklearn.neighbors import KNeighborsClassifier\n",
    "from sklearn.model_selection import train_test_split\n",
    "from sklearn import metrics, linear_model\n",
    "from sklearn.metrics import mean_squared_error, r2_score"
   ]
  },
  {
   "cell_type": "markdown",
   "metadata": {},
   "source": [
    "# Ads Only Dataset"
   ]
  },
  {
   "cell_type": "code",
   "execution_count": 27,
   "metadata": {},
   "outputs": [],
   "source": [
    "X = ads_only.loc[:, ['Downloads']]\n",
    "y = ads_only.loc[:,'Revenue']"
   ]
  },
  {
   "cell_type": "code",
   "execution_count": 28,
   "metadata": {},
   "outputs": [],
   "source": [
    "lr = LinearRegression()"
   ]
  },
  {
   "cell_type": "code",
   "execution_count": 29,
   "metadata": {},
   "outputs": [
    {
     "data": {
      "text/plain": [
       "(55, 24)"
      ]
     },
     "execution_count": 29,
     "metadata": {},
     "output_type": "execute_result"
    }
   ],
   "source": [
    "X_train, X_test, y_train, y_test = train_test_split(X, y, test_size=0.3)\n",
    "len(X_train), len(X_test)"
   ]
  },
  {
   "cell_type": "code",
   "execution_count": 33,
   "metadata": {},
   "outputs": [
    {
     "name": "stdout",
     "output_type": "stream",
     "text": [
      "Coefficients:  [0.02935242]\n",
      "Mean squared error: 368808136543025.25\n",
      "Variance score: 0.05\n"
     ]
    }
   ],
   "source": [
    "lrl = linear_model.LinearRegression()\n",
    "lrl.fit(X_train, y_train)\n",
    "ads_only_y_pred = lrl.predict(X_test)\n",
    "\n",
    "print('Coefficients: ', lrl.coef_)\n",
    "# The mean squared error\n",
    "print(\"Mean squared error: %.2f\"\n",
    "      % mean_squared_error(y_test, ads_only_y_pred))\n",
    "# Explained variance score: 1 is perfect prediction\n",
    "print('Variance score: %.2f' % r2_score(y_test, ads_only_y_pred))"
   ]
  },
  {
   "cell_type": "code",
   "execution_count": 49,
   "metadata": {
    "scrolled": true
   },
   "outputs": [
    {
     "data": {
      "text/plain": [
       "[<matplotlib.lines.Line2D at 0x18ffa0c8828>]"
      ]
     },
     "execution_count": 49,
     "metadata": {},
     "output_type": "execute_result"
    },
    {
     "data": {
      "image/png": "[encoded data removed]",
      "text/plain": [
       "<Figure size 432x288 with 1 Axes>"
      ]
     },
     "metadata": {},
     "output_type": "display_data"
    }
   ],
   "source": [
    "%matplotlib inline\n",
    "import matplotlib.pyplot as plt\n",
    "\n",
    "plt.scatter(X_test, y_test)\n",
    "plt.plot(X_test, ads_only_y_pred)"
   ]
  },
  {
   "cell_type": "markdown",
   "metadata": {},
   "source": [
    "The data doesn't fit too well. There is very high bias, as well as variance. A bigger data set could help with variance in the future.\n",
    "\n",
    "Only 5% of the difference in app revenue is explained by the difference in downloads and the MSE is very large."
   ]
  },
  {
   "cell_type": "markdown",
   "metadata": {},
   "source": [
    "# In-App Purchase Only"
   ]
  },
  {
   "cell_type": "code",
   "execution_count": 34,
   "metadata": {},
   "outputs": [],
   "source": [
    "A = inapppurchase_only.loc[:, ['Downloads']]\n",
    "b = inapppurchase_only.loc[:,'Revenue']"
   ]
  },
  {
   "cell_type": "code",
   "execution_count": 35,
   "metadata": {},
   "outputs": [
    {
     "data": {
      "text/plain": [
       "(93, 40)"
      ]
     },
     "execution_count": 35,
     "metadata": {},
     "output_type": "execute_result"
    }
   ],
   "source": [
    "A_train, A_test, b_train, b_test = train_test_split(A, b, test_size=0.3)\n",
    "len(A_train), len(A_test)"
   ]
  },
  {
   "cell_type": "code",
   "execution_count": 36,
   "metadata": {},
   "outputs": [
    {
     "name": "stdout",
     "output_type": "stream",
     "text": [
      "Coefficients:  [1.12278774]\n",
      "Mean squared error: 25075873945490164.00\n",
      "Variance score: 0.22\n"
     ]
    }
   ],
   "source": [
    "lrl.fit(A_train, b_train)\n",
    "inapppurchase_only_b_pred = lrl.predict(A_test)\n",
    "\n",
    "print('Coefficients: ', lrl.coef_)\n",
    "# The mean squared error\n",
    "print(\"Mean squared error: %.2f\"\n",
    "      % mean_squared_error(b_test, inapppurchase_only_b_pred))\n",
    "# Explained variance score: 1 is perfect prediction\n",
    "print('Variance score: %.2f' % r2_score(b_test, inapppurchase_only_b_pred))"
   ]
  },
  {
   "cell_type": "code",
   "execution_count": 45,
   "metadata": {},
   "outputs": [
    {
     "data": {
      "text/plain": [
       "[<matplotlib.lines.Line2D at 0x18ffa1a3cc0>]"
      ]
     },
     "execution_count": 45,
     "metadata": {},
     "output_type": "execute_result"
    },
    {
     "data": {
      "image/png": "[encoded data removed]",
      "text/plain": [
       "<Figure size 432x288 with 1 Axes>"
      ]
     },
     "metadata": {},
     "output_type": "display_data"
    }
   ],
   "source": [
    "plt.scatter(A_test, b_test)\n",
    "plt.plot(A_test, inapppurchase_only_b_pred)"
   ]
  },
  {
   "cell_type": "markdown",
   "metadata": {},
   "source": [
    "The data doesn't fit too well. There is very high bias, as well as variance. A bigger data set could help with variance in the future.\n",
    "\n",
    "Only 22% of the difference in app revenue is explained by the difference in downloads, which is better than the previous data set, but the MSE is still very large, showing that this model with Downloads as the independent variable doesn't do a good job at predicting revenue."
   ]
  },
  {
   "cell_type": "markdown",
   "metadata": {},
   "source": [
    "# Both Ads and In-App Purchases"
   ]
  },
  {
   "cell_type": "code",
   "execution_count": 38,
   "metadata": {},
   "outputs": [],
   "source": [
    "B = ads_and_purchase.loc[:, ['Downloads']]\n",
    "k = ads_and_purchase.loc[:,'Revenue']"
   ]
  },
  {
   "cell_type": "code",
   "execution_count": 39,
   "metadata": {},
   "outputs": [
    {
     "data": {
      "text/plain": [
       "(478, 206)"
      ]
     },
     "execution_count": 39,
     "metadata": {},
     "output_type": "execute_result"
    }
   ],
   "source": [
    "B_train, B_test, k_train, k_test = train_test_split(B, k, test_size=0.3)\n",
    "len(B_train), len(B_test)"
   ]
  },
  {
   "cell_type": "code",
   "execution_count": 40,
   "metadata": {},
   "outputs": [
    {
     "name": "stdout",
     "output_type": "stream",
     "text": [
      "Coefficients:  [0.1574497]\n",
      "Mean squared error: 785800783133758.62\n",
      "Variance score: 0.04\n"
     ]
    }
   ],
   "source": [
    "lrl.fit(B_train, k_train)\n",
    "ads_and_purchase_k_pred = lrl.predict(B_test)\n",
    "\n",
    "print('Coefficients: ', lrl.coef_)\n",
    "# The mean squared error\n",
    "print(\"Mean squared error: %.2f\"\n",
    "      % mean_squared_error(k_test, ads_and_purchase_k_pred))\n",
    "# Explained variance score: 1 is perfect prediction\n",
    "print('Variance score: %.2f' % r2_score(k_test, ads_and_purchase_k_pred))"
   ]
  },
  {
   "cell_type": "code",
   "execution_count": 46,
   "metadata": {},
   "outputs": [
    {
     "data": {
      "text/plain": [
       "[<matplotlib.lines.Line2D at 0x18ff4a4b0f0>]"
      ]
     },
     "execution_count": 46,
     "metadata": {},
     "output_type": "execute_result"
    },
    {
     "data": {
      "image/png": "[encoded data removed]",
      "text/plain": [
       "<Figure size 432x288 with 1 Axes>"
      ]
     },
     "metadata": {},
     "output_type": "display_data"
    }
   ],
   "source": [
    "plt.scatter(B_test, k_test)\n",
    "plt.plot(B_test, ads_and_purchase_k_pred)"
   ]
  },
  {
   "cell_type": "markdown",
   "metadata": {},
   "source": [
    "The data doesn't fit too well. There is very high bias, as well as variance. A bigger data set could help with variance in the future.\n",
    "\n",
    "Only 4% of the difference in app revenue is explained by the difference in downloads and the MSE is very large."
   ]
  },
  {
   "cell_type": "markdown",
   "metadata": {},
   "source": [
    "# Conclusions"
   ]
  },
  {
   "cell_type": "markdown",
   "metadata": {},
   "source": [
    "My models predicting app revenue from app downloads proved to be inaccurate and useless, with very low acccuracy. This is valuable insight that shows that the number of downloads isn't the core driver of app revenue, regardless of the business model.\n",
    "\n",
    "Other variables not available in my data set is likely driving app revenue. In the future, we could look at:\n",
    "\n",
    "(1) App Category\n",
    "(2) Time Spent in-app"
   ]
  },
  {
   "cell_type": "code",
   "execution_count": null,
   "metadata": {},
   "outputs": [],
   "source": []
  }
 ],
 "metadata": {
  "kernelspec": {
   "display_name": "Python 3",
   "language": "python",
   "name": "python3"
  },
  "language_info": {
   "codemirror_mode": {
    "name": "ipython",
    "version": 3
   },
   "file_extension": ".py",
   "mimetype": "text/x-python",
   "name": "python",
   "nbconvert_exporter": "python",
   "pygments_lexer": "ipython3",
   "version": "3.6.5"
  }
 },
 "nbformat": 4,
 "nbformat_minor": 2
}
