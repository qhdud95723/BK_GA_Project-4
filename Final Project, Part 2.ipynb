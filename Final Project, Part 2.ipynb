{
 "cells": [
  {
   "cell_type": "markdown",
   "metadata": {},
   "source": [
    "#### Exploratory data analysis is a crucial step in any data workflow. Create a Jupyter Notebook that explores your data mathematically and visually. Explore features, apply descriptive statistics, look at distributions, and determine how to handle sampling or any missing values.\n",
    "\n",
    "#### Requirements\n",
    "#### 1. Create an exploratory data analysis notebook.\n",
    "#### 2. Perform statistical analysis, along with any visualizations.\n",
    "#### 3. Determine how to handle sampling or missing values.\n",
    "#### 4. Clearly identify shortcomings, assumptions, and next steps.\n",
    "\n",
    "#### Submission\n",
    "#### Submit or share your project brief as per your instructor's directions."
   ]
  },
  {
   "cell_type": "code",
   "execution_count": 2,
   "metadata": {},
   "outputs": [],
   "source": [
    "import pandas as pd"
   ]
  },
  {
   "cell_type": "code",
   "execution_count": 3,
   "metadata": {},
   "outputs": [],
   "source": [
    "apps = pd.read_csv('2017 Apps Data Mac.csv')"
   ]
  },
  {
   "cell_type": "code",
   "execution_count": 4,
   "metadata": {},
   "outputs": [
    {
     "data": {
      "text/html": [
       "<div>\n",
       "<style scoped>\n",
       "    .dataframe tbody tr th:only-of-type {\n",
       "        vertical-align: middle;\n",
       "    }\n",
       "\n",
       "    .dataframe tbody tr th {\n",
       "        vertical-align: top;\n",
       "    }\n",
       "\n",
       "    .dataframe thead th {\n",
       "        text-align: right;\n",
       "    }\n",
       "</style>\n",
       "<table border=\"1\" class=\"dataframe\">\n",
       "  <thead>\n",
       "    <tr style=\"text-align: right;\">\n",
       "      <th></th>\n",
       "      <th>Absolute_Downloads</th>\n",
       "      <th>Change_Downloads</th>\n",
       "      <th>Change Ratio_Downloads</th>\n",
       "      <th>Absolute_Revenue</th>\n",
       "      <th>Change_Revenue</th>\n",
       "      <th>Change_Ratio_Revenue</th>\n",
       "      <th>Category</th>\n",
       "      <th>In_App_Purchases</th>\n",
       "      <th>Contains_Ads</th>\n",
       "      <th>Changed_Free_to_Paid</th>\n",
       "      <th>Free</th>\n",
       "    </tr>\n",
       "  </thead>\n",
       "  <tbody>\n",
       "    <tr>\n",
       "      <th>0</th>\n",
       "      <td>987448579</td>\n",
       "      <td>85637970</td>\n",
       "      <td>0.094962</td>\n",
       "      <td>92960.32</td>\n",
       "      <td>-129074.72</td>\n",
       "      <td>-0.581326</td>\n",
       "      <td>Communication</td>\n",
       "      <td>False</td>\n",
       "      <td>False</td>\n",
       "      <td>False</td>\n",
       "      <td>True</td>\n",
       "    </tr>\n",
       "    <tr>\n",
       "      <th>1</th>\n",
       "      <td>843974561</td>\n",
       "      <td>44444656</td>\n",
       "      <td>0.055588</td>\n",
       "      <td>123185.80</td>\n",
       "      <td>123185.80</td>\n",
       "      <td>0.000000</td>\n",
       "      <td>Communication</td>\n",
       "      <td>False</td>\n",
       "      <td>False</td>\n",
       "      <td>NaN</td>\n",
       "      <td>True</td>\n",
       "    </tr>\n",
       "    <tr>\n",
       "      <th>2</th>\n",
       "      <td>750298558</td>\n",
       "      <td>-90192790</td>\n",
       "      <td>-0.107310</td>\n",
       "      <td>15.37</td>\n",
       "      <td>15.37</td>\n",
       "      <td>0.000000</td>\n",
       "      <td>Social</td>\n",
       "      <td>False</td>\n",
       "      <td>True</td>\n",
       "      <td>False</td>\n",
       "      <td>True</td>\n",
       "    </tr>\n",
       "    <tr>\n",
       "      <th>3</th>\n",
       "      <td>467443697</td>\n",
       "      <td>49465262</td>\n",
       "      <td>0.118344</td>\n",
       "      <td>0.00</td>\n",
       "      <td>0.00</td>\n",
       "      <td>0.000000</td>\n",
       "      <td>Social</td>\n",
       "      <td>False</td>\n",
       "      <td>True</td>\n",
       "      <td>False</td>\n",
       "      <td>True</td>\n",
       "    </tr>\n",
       "    <tr>\n",
       "      <th>4</th>\n",
       "      <td>278450963</td>\n",
       "      <td>82599265</td>\n",
       "      <td>0.421744</td>\n",
       "      <td>0.00</td>\n",
       "      <td>0.00</td>\n",
       "      <td>0.000000</td>\n",
       "      <td>Tools</td>\n",
       "      <td>False</td>\n",
       "      <td>True</td>\n",
       "      <td>False</td>\n",
       "      <td>True</td>\n",
       "    </tr>\n",
       "  </tbody>\n",
       "</table>\n",
       "</div>"
      ],
      "text/plain": [
       "   Absolute_Downloads  Change_Downloads  Change Ratio_Downloads  \\\n",
       "0           987448579          85637970                0.094962   \n",
       "1           843974561          44444656                0.055588   \n",
       "2           750298558         -90192790               -0.107310   \n",
       "3           467443697          49465262                0.118344   \n",
       "4           278450963          82599265                0.421744   \n",
       "\n",
       "   Absolute_Revenue  Change_Revenue  Change_Ratio_Revenue       Category  \\\n",
       "0          92960.32      -129074.72             -0.581326  Communication   \n",
       "1         123185.80       123185.80              0.000000  Communication   \n",
       "2             15.37           15.37              0.000000         Social   \n",
       "3              0.00            0.00              0.000000         Social   \n",
       "4              0.00            0.00              0.000000          Tools   \n",
       "\n",
       "   In_App_Purchases Contains_Ads Changed_Free_to_Paid  Free  \n",
       "0             False        False                False  True  \n",
       "1             False        False                  NaN  True  \n",
       "2             False         True                False  True  \n",
       "3             False         True                False  True  \n",
       "4             False         True                False  True  "
      ]
     },
     "execution_count": 4,
     "metadata": {},
     "output_type": "execute_result"
    }
   ],
   "source": [
    "apps.head()"
   ]
  },
  {
   "cell_type": "code",
   "execution_count": 5,
   "metadata": {},
   "outputs": [
    {
     "name": "stdout",
     "output_type": "stream",
     "text": [
      "Rows: 1500, Cols: 11\n"
     ]
    }
   ],
   "source": [
    "print('Rows: {}, Cols: {}'.format(apps.shape[0], apps.shape[1]))"
   ]
  },
  {
   "cell_type": "code",
   "execution_count": 6,
   "metadata": {},
   "outputs": [
    {
     "name": "stdout",
     "output_type": "stream",
     "text": [
      "<class 'pandas.core.frame.DataFrame'>\n",
      "RangeIndex: 1500 entries, 0 to 1499\n",
      "Data columns (total 11 columns):\n",
      "Absolute_Downloads        1500 non-null int64\n",
      "Change_Downloads          1500 non-null int64\n",
      "Change Ratio_Downloads    1500 non-null float64\n",
      "Absolute_Revenue          1500 non-null float64\n",
      "Change_Revenue            1500 non-null float64\n",
      "Change_Ratio_Revenue      1500 non-null float64\n",
      "Category                  1500 non-null object\n",
      "In_App_Purchases          1500 non-null bool\n",
      "Contains_Ads              1393 non-null object\n",
      "Changed_Free_to_Paid      1005 non-null object\n",
      "Free                      1500 non-null bool\n",
      "dtypes: bool(2), float64(4), int64(2), object(3)\n",
      "memory usage: 108.5+ KB\n"
     ]
    }
   ],
   "source": [
    "apps.info()"
   ]
  },
  {
   "cell_type": "code",
   "execution_count": 7,
   "metadata": {},
   "outputs": [
    {
     "name": "stdout",
     "output_type": "stream",
     "text": [
      "Null values by column: \n",
      "Absolute_Downloads          0\n",
      "Change_Downloads            0\n",
      "Change Ratio_Downloads      0\n",
      "Absolute_Revenue            0\n",
      "Change_Revenue              0\n",
      "Change_Ratio_Revenue        0\n",
      "Category                    0\n",
      "In_App_Purchases            0\n",
      "Contains_Ads              107\n",
      "Changed_Free_to_Paid      495\n",
      "Free                        0\n",
      "dtype: int64\n"
     ]
    }
   ],
   "source": [
    "print('Null values by column: ')\n",
    "print(pd.isnull(apps).sum())"
   ]
  },
  {
   "cell_type": "markdown",
   "metadata": {},
   "source": [
    "### The null values in contains ads and changed_free_to_paid columns represent that the app does not contain ads or that it did not switch from free to paid. Potential thing I could do later is to assign the null values to a value, such as \"No\" or a number that represents that."
   ]
  },
  {
   "cell_type": "code",
   "execution_count": 8,
   "metadata": {},
   "outputs": [
    {
     "name": "stdout",
     "output_type": "stream",
     "text": [
      "Basic summary statistics: \n",
      "       Absolute_Downloads  Change_Downloads  Change Ratio_Downloads  \\\n",
      "count        1.500000e+03      1.500000e+03            1.500000e+03   \n",
      "mean         2.359635e+07      3.160248e+06            9.878321e+03   \n",
      "std          4.691825e+07      1.785817e+07            3.525637e+05   \n",
      "min          7.281799e+06     -3.148791e+08           -8.597582e-01   \n",
      "25%          9.248641e+06     -2.332579e+06           -1.377532e-01   \n",
      "50%          1.271425e+07      2.809348e+06            4.306485e-02   \n",
      "75%          2.252714e+07      8.982797e+06            6.844176e-01   \n",
      "max          9.874486e+08      9.726814e+07            1.361156e+07   \n",
      "\n",
      "       Absolute_Revenue  Change_Revenue  Change_Ratio_Revenue  \n",
      "count      1.500000e+03    1.500000e+03          1.500000e+03  \n",
      "mean       1.130294e+07    3.589660e+06          1.074961e+03  \n",
      "std        5.540067e+07    3.119222e+07          3.506492e+04  \n",
      "min        0.000000e+00   -2.369632e+08         -1.000000e+00  \n",
      "25%        0.000000e+00    0.000000e+00          0.000000e+00  \n",
      "50%        2.698751e+04    0.000000e+00          0.000000e+00  \n",
      "75%        1.297298e+06    1.773544e+05          3.577879e-01  \n",
      "max        1.092927e+09    6.809620e+08          1.351058e+06  \n"
     ]
    }
   ],
   "source": [
    "print('Basic summary statistics: ')\n",
    "print(apps.describe())"
   ]
  },
  {
   "cell_type": "code",
   "execution_count": 9,
   "metadata": {},
   "outputs": [],
   "source": [
    "ax = apps.plot(kind='box', figsize=(15, 6), title = 'Distribution of Columns')"
   ]
  },
  {
   "cell_type": "markdown",
   "metadata": {
    "scrolled": true
   },
   "source": [
    "I need to determine if there are any apps that switched from free to paid during 2017, but are now back to being free. "
   ]
  },
  {
   "cell_type": "code",
   "execution_count": 10,
   "metadata": {},
   "outputs": [
    {
     "data": {
      "text/plain": [
       "Action                     120\n",
       "Tools                      116\n",
       "Arcade                      90\n",
       "Casual                      86\n",
       "Photography                 80\n",
       "Entertainment               80\n",
       "Racing                      74\n",
       "Music & Audio               60\n",
       "Puzzle                      57\n",
       "Simulation                  55\n",
       "Shopping                    54\n",
       "Productivity                51\n",
       "Sports                      49\n",
       "Social                      46\n",
       "Communication               45\n",
       "Finance                     35\n",
       "Strategy                    32\n",
       "Video Players & Editors     30\n",
       "Travel & Local              29\n",
       "Role Playing                27\n",
       "Personalization             26\n",
       "Health & Fitness            23\n",
       "Adventure                   20\n",
       "Lifestyle                   17\n",
       "Education                   15\n",
       "Business                    14\n",
       "News & Magazines            13\n",
       "Maps & Navigation           13\n",
       "Board                       13\n",
       "Utilities                   12\n",
       "Books & Reference           11\n",
       "Music                       11\n",
       "Food & Drink                10\n",
       "Card                        10\n",
       "Word                         9\n",
       "Social Networking            9\n",
       "Educational                  8\n",
       "Weather                      8\n",
       "Photo & Video                7\n",
       "Casino                       6\n",
       "Travel                       5\n",
       "Trivia                       5\n",
       "Games                        4\n",
       "House & Home                 3\n",
       "News                         2\n",
       "Navigation                   2\n",
       "Libraries & Demo             1\n",
       "Comics                       1\n",
       "Books                        1\n",
       "Reference                    1\n",
       "Dating                       1\n",
       "Parenting                    1\n",
       "Auto & Vehicles              1\n",
       "Art & Design                 1\n",
       "Name: Category, dtype: int64"
      ]
     },
     "execution_count": 10,
     "metadata": {},
     "output_type": "execute_result"
    }
   ],
   "source": [
    "apps.loc[:,'Category'].value_counts()"
   ]
  },
  {
   "cell_type": "markdown",
   "metadata": {},
   "source": [
    "Depending on what analysis I run, I may not be able to get statistically significant results for some of these categories. The data is too spare"
   ]
  },
  {
   "cell_type": "code",
   "execution_count": 12,
   "metadata": {},
   "outputs": [
    {
     "data": {
      "text/plain": [
       "Category\n",
       "Action                     1.807045e+07\n",
       "Adventure                  3.040346e+07\n",
       "Arcade                     1.270065e+06\n",
       "Art & Design               0.000000e+00\n",
       "Auto & Vehicles            0.000000e+00\n",
       "Board                      9.133777e+06\n",
       "Books                      2.269720e+07\n",
       "Books & Reference          2.419886e+06\n",
       "Business                   5.547032e+05\n",
       "Card                       2.845026e+07\n",
       "Casino                     6.827524e+07\n",
       "Casual                     2.269643e+07\n",
       "Comics                     0.000000e+00\n",
       "Communication              7.568467e+06\n",
       "Dating                     7.468238e+05\n",
       "Education                  2.441339e+06\n",
       "Educational                1.886530e+05\n",
       "Entertainment              1.153482e+07\n",
       "Finance                    4.384000e+00\n",
       "Food & Drink               0.000000e+00\n",
       "Games                      4.892144e+07\n",
       "Health & Fitness           5.318361e+06\n",
       "House & Home               2.652426e+04\n",
       "Libraries & Demo           0.000000e+00\n",
       "Lifestyle                  2.103316e+07\n",
       "Maps & Navigation          2.335106e+05\n",
       "Music                      5.064994e+06\n",
       "Music & Audio              8.774483e+06\n",
       "Navigation                 0.000000e+00\n",
       "News                       2.113570e+05\n",
       "News & Magazines           1.749112e+03\n",
       "Parenting                  0.000000e+00\n",
       "Personalization            1.293163e+04\n",
       "Photo & Video              1.289411e+06\n",
       "Photography                3.529668e+05\n",
       "Productivity               4.112982e+06\n",
       "Puzzle                     1.534970e+07\n",
       "Racing                     2.461225e+06\n",
       "Reference                  0.000000e+00\n",
       "Role Playing               7.240411e+07\n",
       "Shopping                   1.346903e+05\n",
       "Simulation                 1.229864e+07\n",
       "Social                     6.129675e+06\n",
       "Social Networking          2.281553e+07\n",
       "Sports                     9.031114e+06\n",
       "Strategy                   1.056340e+08\n",
       "Tools                      3.822029e+05\n",
       "Travel                     1.293580e+02\n",
       "Travel & Local             8.527726e+04\n",
       "Trivia                     9.122402e+05\n",
       "Utilities                  1.595052e+06\n",
       "Video Players & Editors    9.919082e+06\n",
       "Weather                    4.008141e+05\n",
       "Word                       5.967340e+06\n",
       "Name: Absolute_Revenue, dtype: float64"
      ]
     },
     "execution_count": 12,
     "metadata": {},
     "output_type": "execute_result"
    }
   ],
   "source": [
    "apps.groupby('Category')['Absolute_Revenue'].mean()"
   ]
  },
  {
   "cell_type": "code",
   "execution_count": 13,
   "metadata": {},
   "outputs": [
    {
     "data": {
      "text/plain": [
       "Category\n",
       "Action                     2.049521e+07\n",
       "Adventure                  1.796236e+07\n",
       "Arcade                     2.316854e+07\n",
       "Art & Design               9.422337e+06\n",
       "Auto & Vehicles            7.841656e+06\n",
       "Board                      2.218910e+07\n",
       "Books                      1.468663e+07\n",
       "Books & Reference          1.778469e+07\n",
       "Business                   1.294246e+07\n",
       "Card                       1.803040e+07\n",
       "Casino                     1.213804e+07\n",
       "Casual                     2.103987e+07\n",
       "Comics                     1.374106e+07\n",
       "Communication              8.198324e+07\n",
       "Dating                     1.137842e+07\n",
       "Education                  1.471432e+07\n",
       "Educational                1.231607e+07\n",
       "Entertainment              2.583935e+07\n",
       "Finance                    1.464768e+07\n",
       "Food & Drink               1.433878e+07\n",
       "Games                      1.466929e+07\n",
       "Health & Fitness           1.191836e+07\n",
       "House & Home               1.233285e+07\n",
       "Libraries & Demo           8.190985e+06\n",
       "Lifestyle                  1.824362e+07\n",
       "Maps & Navigation          3.662206e+07\n",
       "Music                      2.158841e+07\n",
       "Music & Audio              2.180045e+07\n",
       "Navigation                 2.480731e+07\n",
       "News                       1.208845e+07\n",
       "News & Magazines           2.578727e+07\n",
       "Parenting                  7.321355e+06\n",
       "Personalization            2.119428e+07\n",
       "Photo & Video              1.758946e+07\n",
       "Photography                2.728499e+07\n",
       "Productivity               2.657606e+07\n",
       "Puzzle                     1.681474e+07\n",
       "Racing                     1.801797e+07\n",
       "Reference                  9.861424e+06\n",
       "Role Playing               1.329791e+07\n",
       "Shopping                   2.494435e+07\n",
       "Simulation                 1.463228e+07\n",
       "Social                     5.287707e+07\n",
       "Social Networking          1.761486e+07\n",
       "Sports                     1.935332e+07\n",
       "Strategy                   2.293811e+07\n",
       "Tools                      2.170805e+07\n",
       "Travel                     2.058671e+07\n",
       "Travel & Local             1.982786e+07\n",
       "Trivia                     1.466133e+07\n",
       "Utilities                  1.810437e+07\n",
       "Video Players & Editors    2.666315e+07\n",
       "Weather                    1.238738e+07\n",
       "Word                       1.826314e+07\n",
       "Name: Absolute_Downloads, dtype: float64"
      ]
     },
     "execution_count": 13,
     "metadata": {},
     "output_type": "execute_result"
    }
   ],
   "source": [
    "apps.groupby('Category')['Absolute_Downloads'].mean()"
   ]
  },
  {
   "cell_type": "code",
   "execution_count": 15,
   "metadata": {},
   "outputs": [
    {
     "data": {
      "text/plain": [
       "Category                 In_App_Purchases\n",
       "Action                   False               4.756038e+07\n",
       "                         True                1.107799e+07\n",
       "Adventure                False               0.000000e+00\n",
       "                         True                3.800432e+07\n",
       "Arcade                   False               4.254450e+05\n",
       "                         True                1.438989e+06\n",
       "Art & Design             False               0.000000e+00\n",
       "Auto & Vehicles          False               0.000000e+00\n",
       "Board                    False               2.719642e+07\n",
       "                         True                3.714984e+06\n",
       "Books                    True                2.269720e+07\n",
       "Books & Reference        False               0.000000e+00\n",
       "                         True                5.323749e+06\n",
       "Business                 False               1.874601e+05\n",
       "                         True                1.215741e+06\n",
       "Card                     False               0.000000e+00\n",
       "                         True                4.741711e+07\n",
       "Casino                   True                6.827524e+07\n",
       "Casual                   False               1.475774e+04\n",
       "                         True                3.147644e+07\n",
       "Comics                   False               0.000000e+00\n",
       "Communication            False               7.385971e+06\n",
       "                         True                7.972564e+06\n",
       "Dating                   True                7.468238e+05\n",
       "Education                False               6.222252e+03\n",
       "                         True                4.064750e+06\n",
       "Educational              False               1.782100e+05\n",
       "                         True                2.199820e+05\n",
       "Entertainment            False               9.825863e+06\n",
       "                         True                1.324379e+07\n",
       "                                                 ...     \n",
       "Racing                   True                3.034910e+06\n",
       "Reference                False               0.000000e+00\n",
       "Role Playing             False               9.217491e+07\n",
       "                         True                6.791074e+07\n",
       "Shopping                 False               2.032587e+04\n",
       "                         True                1.255462e+06\n",
       "Simulation               False               0.000000e+00\n",
       "                         True                1.537330e+07\n",
       "Social                   False               2.523020e+06\n",
       "                         True                9.159265e+06\n",
       "Social Networking        False               3.206406e+06\n",
       "                         True                3.262008e+07\n",
       "Sports                   False               3.375710e+03\n",
       "                         True                1.029080e+07\n",
       "Strategy                 False               2.053121e+05\n",
       "                         True                1.206953e+08\n",
       "Tools                    False               8.618114e+03\n",
       "                         True                1.453146e+06\n",
       "Travel                   False               1.293580e+02\n",
       "Travel & Local           False               1.657236e+03\n",
       "                         True                1.214148e+06\n",
       "Trivia                   False               0.000000e+00\n",
       "                         True                1.140300e+06\n",
       "Utilities                False               1.868330e+06\n",
       "                         True                2.286654e+05\n",
       "Video Players & Editors  False               6.718343e+06\n",
       "                         True                1.472019e+07\n",
       "Weather                  False               2.022790e+03\n",
       "                         True                5.337446e+05\n",
       "Word                     True                5.967340e+06\n",
       "Name: Absolute_Revenue, Length: 93, dtype: float64"
      ]
     },
     "execution_count": 15,
     "metadata": {},
     "output_type": "execute_result"
    }
   ],
   "source": [
    "apps.groupby(['Category', 'In_App_Purchases'])['Absolute_Revenue'].mean()"
   ]
  },
  {
   "cell_type": "code",
   "execution_count": 16,
   "metadata": {},
   "outputs": [
    {
     "data": {
      "text/plain": [
       "Contains_Ads\n",
       "False    2.629472e+07\n",
       "True     6.037830e+06\n",
       "Name: Absolute_Revenue, dtype: float64"
      ]
     },
     "execution_count": 16,
     "metadata": {},
     "output_type": "execute_result"
    }
   ],
   "source": [
    "apps.groupby('Contains_Ads')['Absolute_Revenue'].mean()"
   ]
  },
  {
   "cell_type": "code",
   "execution_count": 17,
   "metadata": {},
   "outputs": [
    {
     "data": {
      "text/plain": [
       "Free\n",
       "False    2.117565e+05\n",
       "True     1.131774e+07\n",
       "Name: Absolute_Revenue, dtype: float64"
      ]
     },
     "execution_count": 17,
     "metadata": {},
     "output_type": "execute_result"
    }
   ],
   "source": [
    "apps.groupby('Free')['Absolute_Revenue'].mean()"
   ]
  },
  {
   "cell_type": "code",
   "execution_count": 18,
   "metadata": {},
   "outputs": [
    {
     "data": {
      "text/plain": [
       "Free  Contains_Ads\n",
       "True  False           2.629472e+07\n",
       "      True            6.037830e+06\n",
       "Name: Absolute_Revenue, dtype: float64"
      ]
     },
     "execution_count": 18,
     "metadata": {},
     "output_type": "execute_result"
    }
   ],
   "source": [
    "apps.groupby(['Free', 'Contains_Ads'])['Absolute_Revenue'].mean()"
   ]
  },
  {
   "cell_type": "code",
   "execution_count": 19,
   "metadata": {},
   "outputs": [
    {
     "data": {
      "text/html": [
       "<div>\n",
       "<style scoped>\n",
       "    .dataframe tbody tr th:only-of-type {\n",
       "        vertical-align: middle;\n",
       "    }\n",
       "\n",
       "    .dataframe tbody tr th {\n",
       "        vertical-align: top;\n",
       "    }\n",
       "\n",
       "    .dataframe thead th {\n",
       "        text-align: right;\n",
       "    }\n",
       "</style>\n",
       "<table border=\"1\" class=\"dataframe\">\n",
       "  <thead>\n",
       "    <tr style=\"text-align: right;\">\n",
       "      <th></th>\n",
       "      <th>count</th>\n",
       "      <th>mean</th>\n",
       "      <th>min</th>\n",
       "      <th>max</th>\n",
       "    </tr>\n",
       "    <tr>\n",
       "      <th>Contains_Ads</th>\n",
       "      <th></th>\n",
       "      <th></th>\n",
       "      <th></th>\n",
       "      <th></th>\n",
       "    </tr>\n",
       "  </thead>\n",
       "  <tbody>\n",
       "    <tr>\n",
       "      <th>True</th>\n",
       "      <td>1015</td>\n",
       "      <td>6.037830e+06</td>\n",
       "      <td>0.0</td>\n",
       "      <td>3.814998e+08</td>\n",
       "    </tr>\n",
       "    <tr>\n",
       "      <th>False</th>\n",
       "      <td>378</td>\n",
       "      <td>2.629472e+07</td>\n",
       "      <td>0.0</td>\n",
       "      <td>1.092927e+09</td>\n",
       "    </tr>\n",
       "  </tbody>\n",
       "</table>\n",
       "</div>"
      ],
      "text/plain": [
       "              count          mean  min           max\n",
       "Contains_Ads                                        \n",
       "True           1015  6.037830e+06  0.0  3.814998e+08\n",
       "False           378  2.629472e+07  0.0  1.092927e+09"
      ]
     },
     "execution_count": 19,
     "metadata": {},
     "output_type": "execute_result"
    }
   ],
   "source": [
    "apps.groupby('Contains_Ads')['Absolute_Revenue'].agg(['count', 'mean', 'min', 'max']).sort_values('mean')"
   ]
  },
  {
   "cell_type": "code",
   "execution_count": 40,
   "metadata": {},
   "outputs": [
    {
     "data": {
      "text/plain": [
       "Text(0.5,1,'Number of Apps That Are Free vs. Paid')"
      ]
     },
     "execution_count": 40,
     "metadata": {},
     "output_type": "execute_result"
    },
    {
     "data": {
      "image/png": "[encoded data removed]",
      "text/plain": [
       "<Figure size 432x288 with 1 Axes>"
      ]
     },
     "metadata": {},
     "output_type": "display_data"
    }
   ],
   "source": [
    "ax = apps.loc[:, 'Free'].value_counts().plot(kind='bar')\n",
    "ax.set_title('Number of Apps That Are Free vs. Paid')"
   ]
  },
  {
   "cell_type": "code",
   "execution_count": 42,
   "metadata": {},
   "outputs": [
    {
     "data": {
      "image/png": "[encoded data removed]",
      "text/plain": [
       "<Figure size 432x288 with 1 Axes>"
      ]
     },
     "metadata": {},
     "output_type": "display_data"
    }
   ],
   "source": [
    "ax = apps.loc[:, 'Contains_Ads'].value_counts().plot(kind='bar')\n",
    "ax.set_title('Number of Apps That Contains Ads vs. No Ads');"
   ]
  },
  {
   "cell_type": "code",
   "execution_count": 59,
   "metadata": {},
   "outputs": [
    {
     "data": {
      "text/plain": [
       "0     92960.32\n",
       "1    123185.80\n",
       "2        15.37\n",
       "3         0.00\n",
       "4         0.00\n",
       "Name: Absolute_Revenue, dtype: float64"
      ]
     },
     "execution_count": 59,
     "metadata": {},
     "output_type": "execute_result"
    }
   ],
   "source": [
    "first_five = apps.loc[:4, 'Absolute_Revenue']\n",
    "first_five"
   ]
  },
  {
   "cell_type": "code",
   "execution_count": 61,
   "metadata": {},
   "outputs": [],
   "source": [
    "mean = first_five.mean()"
   ]
  },
  {
   "cell_type": "code",
   "execution_count": 63,
   "metadata": {},
   "outputs": [],
   "source": [
    "import numpy as np"
   ]
  },
  {
   "cell_type": "code",
   "execution_count": 64,
   "metadata": {},
   "outputs": [],
   "source": [
    "variance = (np.square(92960.32-mean)+np.square(12185.8-mean)+np.square(15.37-mean)+np.square(0-mean)+np.square(0-mean)) / 4"
   ]
  },
  {
   "cell_type": "code",
   "execution_count": 65,
   "metadata": {},
   "outputs": [
    {
     "data": {
      "text/plain": [
       "2260631814.14382"
      ]
     },
     "execution_count": 65,
     "metadata": {},
     "output_type": "execute_result"
    }
   ],
   "source": [
    "variance"
   ]
  },
  {
   "cell_type": "markdown",
   "metadata": {},
   "source": [
    "this is a huge concern. i may need to work on this data within categories"
   ]
  },
  {
   "cell_type": "code",
   "execution_count": 67,
   "metadata": {},
   "outputs": [
    {
     "name": "stdout",
     "output_type": "stream",
     "text": [
      "60148.16019749748\n"
     ]
    }
   ],
   "source": [
    "print(first_five.std())"
   ]
  },
  {
   "cell_type": "code",
   "execution_count": 68,
   "metadata": {},
   "outputs": [
    {
     "data": {
      "image/png": "[encoded data removed]",
      "text/plain": [
       "<Figure size 432x288 with 1 Axes>"
      ]
     },
     "metadata": {},
     "output_type": "display_data"
    }
   ],
   "source": [
    "ax3 = apps.plot(x='Absolute_Downloads', y='Absolute_Revenue', kind = 'scatter')"
   ]
  },
  {
   "cell_type": "markdown",
   "metadata": {},
   "source": [
    "seems to skew right but for the most part, the revenue goes up steeply with an increase in downloads."
   ]
  },
  {
   "cell_type": "markdown",
   "metadata": {},
   "source": [
    "The data is very thorough. I am not missing any data other than null values in several columns, but even those mean something. I anticipate no data clean up work will be required."
   ]
  },
  {
   "cell_type": "markdown",
   "metadata": {},
   "source": [
    "One large risk that lies in my data set is the selection bias. I don't think there is a way to eliminate this in my analysis. It's inherent to the way the apps store apps survive. 1,500 apps are likely amid the top few percentile of apps, which means they have all gained fair traction, survived and generated enough downloads and revenue to be on SensorTower, the data provider's radar."
   ]
  },
  {
   "cell_type": "markdown",
   "metadata": {},
   "source": [
    "Here are some things I need to address in the next steps:\n",
    "1. Find the correlation between downloads and revenue. Depending on the outcome, if they are highly correlated, I would need to remove or not use \"Downloads' to predict revenue to avoid multicollinearity\n",
    "2. Figure out which app category has enough app data to sample from.\n",
    "3. Find out which of the following three variables, Free/Paid, Advertising, in-app purchases, are significant determinators, and figure out which one to ultimatley keep.\n",
    "4. the end goal is to come up with a loop/decision-tree type format that would train each model against data set within a given category. ultimately, the model should be able to (1) detect the category then (2) test it against the right version."
   ]
  },
  {
   "cell_type": "code",
   "execution_count": null,
   "metadata": {},
   "outputs": [],
   "source": []
  }
 ],
 "metadata": {
  "kernelspec": {
   "display_name": "Python 3",
   "language": "python",
   "name": "python3"
  },
  "language_info": {
   "codemirror_mode": {
    "name": "ipython",
    "version": 3
   },
   "file_extension": ".py",
   "mimetype": "text/x-python",
   "name": "python",
   "nbconvert_exporter": "python",
   "pygments_lexer": "ipython3",
   "version": "3.6.5"
  }
 },
 "nbformat": 4,
 "nbformat_minor": 2
}
